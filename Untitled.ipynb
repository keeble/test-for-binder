{
 "cells": [
  {
   "cell_type": "code",
   "execution_count": 1,
   "id": "ideal-ability",
   "metadata": {},
   "outputs": [],
   "source": [
    "import xraylib"
   ]
  },
  {
   "cell_type": "code",
   "execution_count": 3,
   "id": "alien-strength",
   "metadata": {},
   "outputs": [],
   "source": [
    "water = xraylib.CompoundParser('H2O')"
   ]
  }
 ],
 "metadata": {
  "kernelspec": {
   "display_name": "Python 3 (ipykernel)",
   "language": "python",
   "name": "python3"
  },
  "language_info": {
   "codemirror_mode": {
    "name": "ipython",
    "version": 3
   },
   "file_extension": ".py",
   "mimetype": "text/x-python",
   "name": "python",
   "nbconvert_exporter": "python",
   "pygments_lexer": "ipython3",
   "version": "3.9.1"
  }
 },
 "nbformat": 4,
 "nbformat_minor": 5
}
